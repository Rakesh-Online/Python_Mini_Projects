{
  "nbformat": 4,
  "nbformat_minor": 0,
  "metadata": {
    "colab": {
      "name": "BMI.ipynb",
      "provenance": [],
      "authorship_tag": "ABX9TyO7tEPmBaHgdCo2iH9AYnBz",
      "include_colab_link": true
    },
    "kernelspec": {
      "name": "python3",
      "display_name": "Python 3"
    },
    "language_info": {
      "name": "python"
    }
  },
  "cells": [
    {
      "cell_type": "markdown",
      "metadata": {
        "id": "view-in-github",
        "colab_type": "text"
      },
      "source": [
        "<a href=\"https://colab.research.google.com/github/Rakesh-Online/Python_Mini_Projects/blob/master/BMI.ipynb\" target=\"_parent\"><img src=\"https://colab.research.google.com/assets/colab-badge.svg\" alt=\"Open In Colab\"/></a>"
      ]
    },
    {
      "cell_type": "code",
      "metadata": {
        "colab": {
          "base_uri": "https://localhost:8080/"
        },
        "id": "-2c9j5vkf6D7",
        "outputId": "07b8c7a6-9e9f-4dec-cff2-83e04b788842"
      },
      "source": [
        "class MyBMI(type):\n",
        "    def __call__(cls, *args, **kwargs):\n",
        "        height, weight = args\n",
        "        print(f\"With a height of {height}m. and weight {weight}kg.\")\n",
        "        print(\"Your Body Mass Index is: \")\n",
        "        return type.__call__(cls, *args, **kwargs)\n",
        "\n",
        "\n",
        "class BMI(metaclass=MyBMI):\n",
        "    def __init__(self, height, weight):\n",
        "        self.height = height\n",
        "        self.weight = weight\n",
        "    \n",
        "    \n",
        "    def formula(self):\n",
        "        return round(self.weight / (self.height**2), 1)\n",
        "        \n",
        "\n",
        "    def __str__(self):\n",
        "        return str(self.formula())\n",
        "\n",
        "\n",
        "if __name__ == \"__main__\":\n",
        "    print(BMI(1.65, 75))"
      ],
      "execution_count": 2,
      "outputs": [
        {
          "output_type": "stream",
          "text": [
            "With a height of 1.65m. and weight 75kg.\n",
            "Your Body Mass Index is: \n",
            "27.5\n"
          ],
          "name": "stdout"
        }
      ]
    }
  ]
}