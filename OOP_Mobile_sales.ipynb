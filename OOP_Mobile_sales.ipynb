{
  "nbformat": 4,
  "nbformat_minor": 0,
  "metadata": {
    "colab": {
      "name": "OOP_Mobile_sales.ipynb",
      "provenance": [],
      "authorship_tag": "ABX9TyPBkCYUsXYF8LoQgWHQ2A8G",
      "include_colab_link": true
    },
    "kernelspec": {
      "name": "python3",
      "display_name": "Python 3"
    }
  },
  "cells": [
    {
      "cell_type": "markdown",
      "metadata": {
        "id": "view-in-github",
        "colab_type": "text"
      },
      "source": [
        "<a href=\"https://colab.research.google.com/github/Rakesh-Online/Python_Mini_Projects/blob/master/OOP_Mobile_sales.ipynb\" target=\"_parent\"><img src=\"https://colab.research.google.com/assets/colab-badge.svg\" alt=\"Open In Colab\"/></a>"
      ]
    },
    {
      "cell_type": "code",
      "metadata": {
        "id": "TU6ZuXQhb6eM"
      },
      "source": [
        "class Mobile:\r\n",
        "  def __init__(self, name, ram, color):\r\n",
        "    self.name = name\r\n",
        "    self.ram =ram \r\n",
        "    self.color = color\r\n",
        "\r\n",
        "  def info(self):\r\n",
        "    print(\"Mobile Name :\", self.name)\r\n",
        "    print(\"Mobile Name :\", self.ram)\r\n",
        "    print(\"Mobile Name :\", self.color)\r\n"
      ],
      "execution_count": 1,
      "outputs": []
    },
    {
      "cell_type": "code",
      "metadata": {
        "colab": {
          "base_uri": "https://localhost:8080/"
        },
        "id": "cradgOdncfnt",
        "outputId": "354f2d50-96e4-46fb-f9cf-cfb19c029f6d"
      },
      "source": [
        "list_of_mobiles_sold = []\r\n",
        "while True:\r\n",
        "  name = input(\"Enter the Mobile you want to purhcase: \")\r\n",
        "  ram= input(\"your prefered ram: \")\r\n",
        "  color = input(\"your prefered color: \")\r\n",
        "  m = Mobile(name, ram , color)\r\n",
        "  list_of_mobiles_sold.append(m)\r\n",
        "  print(\"Thanks for purhcasing\")\r\n",
        "  opt = input(\"Want to purchase another mobile ? [yes/no]\")\r\n",
        "  if opt.lower() =='no':\r\n",
        "    break\r\n",
        "\r\n",
        "for mobile in list_of_mobiles_sold:\r\n",
        "  mobile.info()\r\n",
        "  print()"
      ],
      "execution_count": 4,
      "outputs": [
        {
          "output_type": "stream",
          "text": [
            "Enter the Mobile you want to purhcase: samsung\n",
            "your prefered ram: 8\n",
            "your prefered color: red\n",
            "Thanks for purhcasing\n",
            "Want to purchase another mobile ? [yes/no]yes\n",
            "Enter the Mobile you want to purhcase: iphone \n",
            "your prefered ram: 4\n",
            "your prefered color: white\n",
            "Thanks for purhcasing\n",
            "Want to purchase another mobile ? [yes/no]no\n",
            "Mobile Name : samsung\n",
            "Mobile Name : 8\n",
            "Mobile Name : red\n",
            "\n",
            "Mobile Name : iphone \n",
            "Mobile Name : 4\n",
            "Mobile Name : white\n",
            "\n"
          ],
          "name": "stdout"
        }
      ]
    },
    {
      "cell_type": "code",
      "metadata": {
        "id": "BlbxQ03Pc2h2"
      },
      "source": [
        ""
      ],
      "execution_count": null,
      "outputs": []
    }
  ]
}